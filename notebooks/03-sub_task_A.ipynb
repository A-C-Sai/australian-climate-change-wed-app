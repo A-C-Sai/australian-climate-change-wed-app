{
 "cells": [
  {
   "cell_type": "code",
   "execution_count": 4,
   "id": "d5830067",
   "metadata": {},
   "outputs": [
    {
     "name": "stdout",
     "output_type": "stream",
     "text": [
      "\n"
     ]
    }
   ],
   "source": [
    "'''\n",
    "TESTING OUT QUERIES FOR SUB TASK A\n",
    "'''\n",
    "print()"
   ]
  },
  {
   "cell_type": "markdown",
   "id": "fbd862e2",
   "metadata": {},
   "source": [
    "### Importing required libraries"
   ]
  },
  {
   "cell_type": "code",
   "execution_count": 5,
   "id": "f0a188dc",
   "metadata": {},
   "outputs": [],
   "source": [
    "import sqlite3\n",
    "import numpy as np\n",
    "import pandas as pd"
   ]
  },
  {
   "cell_type": "code",
   "execution_count": null,
   "id": "4e3213ba",
   "metadata": {},
   "outputs": [],
   "source": []
  },
  {
   "cell_type": "markdown",
   "id": "8350a6a6",
   "metadata": {},
   "source": [
    "### Global variables"
   ]
  },
  {
   "cell_type": "code",
   "execution_count": 6,
   "id": "b971b203",
   "metadata": {},
   "outputs": [],
   "source": [
    "DATABASE = '../datasets/climate.db'"
   ]
  },
  {
   "cell_type": "code",
   "execution_count": null,
   "id": "2d515f0c",
   "metadata": {},
   "outputs": [],
   "source": []
  },
  {
   "cell_type": "markdown",
   "id": "ba6491e1",
   "metadata": {},
   "source": [
    "### Landing page stats"
   ]
  },
  {
   "cell_type": "code",
   "execution_count": 7,
   "id": "8ab0933b",
   "metadata": {},
   "outputs": [
    {
     "data": {
      "text/plain": [
       "'QLD'"
      ]
     },
     "execution_count": 7,
     "metadata": {},
     "output_type": "execute_result"
    }
   ],
   "source": [
    "with sqlite3.connect(DATABASE) as con:\n",
    "    most_weather_stations_query = (\n",
    "        \"\"\"\n",
    "        select state_name\n",
    "        from states\n",
    "        where state_id = (\n",
    "            select state_id\n",
    "            from weather_stations\n",
    "            group by state_id\n",
    "            order by count(site_id) desc\n",
    "            limit 1\n",
    "        );\n",
    "        \"\"\"\n",
    "    )\n",
    "    \n",
    "    state = pd.read_sql_query(most_weather_stations_query,con).loc[0,\"state_name\"]\n",
    "\n",
    "state"
   ]
  },
  {
   "cell_type": "code",
   "execution_count": null,
   "id": "43259c97",
   "metadata": {},
   "outputs": [],
   "source": []
  },
  {
   "cell_type": "code",
   "execution_count": 8,
   "id": "bd07b5ab",
   "metadata": {},
   "outputs": [
    {
     "data": {
      "text/plain": [
       "'2019'"
      ]
     },
     "execution_count": 8,
     "metadata": {},
     "output_type": "execute_result"
    }
   ],
   "source": [
    "with sqlite3.connect(DATABASE) as con:\n",
    "    hottest_year_query = (\n",
    "        \"\"\"\n",
    "            select strftime('%Y',DMY) as year, AVG((MaxTemp + MinTemp) / 2) as avg_temp\n",
    "            from bom_data\n",
    "            group by strftime('%Y',DMY) \n",
    "            order by 2 desc\n",
    "            limit 1;\n",
    "        \"\"\"\n",
    "    )\n",
    "\n",
    "    hottest_year = pd.read_sql_query(hottest_year_query, con).loc[0,\"year\"]\n",
    "\n",
    "hottest_year"
   ]
  },
  {
   "cell_type": "code",
   "execution_count": null,
   "id": "bbb694cd",
   "metadata": {},
   "outputs": [],
   "source": []
  },
  {
   "cell_type": "code",
   "execution_count": 9,
   "id": "1c015dfd",
   "metadata": {},
   "outputs": [
    {
     "data": {
      "text/html": [
       "<div>\n",
       "<style scoped>\n",
       "    .dataframe tbody tr th:only-of-type {\n",
       "        vertical-align: middle;\n",
       "    }\n",
       "\n",
       "    .dataframe tbody tr th {\n",
       "        vertical-align: top;\n",
       "    }\n",
       "\n",
       "    .dataframe thead th {\n",
       "        text-align: right;\n",
       "    }\n",
       "</style>\n",
       "<table border=\"1\" class=\"dataframe\">\n",
       "  <thead>\n",
       "    <tr style=\"text-align: right;\">\n",
       "      <th></th>\n",
       "      <th>year</th>\n",
       "      <th>avg_temp</th>\n",
       "    </tr>\n",
       "  </thead>\n",
       "  <tbody>\n",
       "    <tr>\n",
       "      <th>0</th>\n",
       "      <td>2020</td>\n",
       "      <td>19.583691</td>\n",
       "    </tr>\n",
       "    <tr>\n",
       "      <th>1</th>\n",
       "      <td>1970</td>\n",
       "      <td>18.533930</td>\n",
       "    </tr>\n",
       "  </tbody>\n",
       "</table>\n",
       "</div>"
      ],
      "text/plain": [
       "   year   avg_temp\n",
       "0  2020  19.583691\n",
       "1  1970  18.533930"
      ]
     },
     "execution_count": 9,
     "metadata": {},
     "output_type": "execute_result"
    }
   ],
   "source": [
    "with sqlite3.connect(DATABASE) as con:\n",
    "    pct_change_avg_temp_query = (\n",
    "        \"\"\"\n",
    "            select strftime('%Y',DMY) as year, AVG((MaxTemp + MinTemp) / 2) as avg_temp\n",
    "            from bom_data\n",
    "            where year in ('2020','1970') \n",
    "            group by strftime('%Y',DMY) \n",
    "            order by 1 desc;\n",
    "        \"\"\"\n",
    "    )\n",
    "\n",
    "    pct_change_avg_temp_table = pd.read_sql_query(pct_change_avg_temp_query, con)\n",
    "\n",
    "pct_change_avg_temp_table"
   ]
  },
  {
   "cell_type": "code",
   "execution_count": 10,
   "id": "6d2fb343",
   "metadata": {},
   "outputs": [
    {
     "data": {
      "text/plain": [
       "5.7"
      ]
     },
     "execution_count": 10,
     "metadata": {},
     "output_type": "execute_result"
    }
   ],
   "source": [
    "avg_temp_2020 = pct_change_avg_temp_table.loc[0,\"avg_temp\"]\n",
    "avg_temp_1970 = pct_change_avg_temp_table.loc[1,\"avg_temp\"]\n",
    "\n",
    "round(float(100 * ((avg_temp_2020 - avg_temp_1970) / avg_temp_1970)),1)"
   ]
  },
  {
   "cell_type": "code",
   "execution_count": null,
   "id": "130eb8ff",
   "metadata": {},
   "outputs": [],
   "source": []
  },
  {
   "cell_type": "code",
   "execution_count": 11,
   "id": "aec70a2c",
   "metadata": {},
   "outputs": [
    {
     "data": {
      "text/html": [
       "<div>\n",
       "<style scoped>\n",
       "    .dataframe tbody tr th:only-of-type {\n",
       "        vertical-align: middle;\n",
       "    }\n",
       "\n",
       "    .dataframe tbody tr th {\n",
       "        vertical-align: top;\n",
       "    }\n",
       "\n",
       "    .dataframe thead th {\n",
       "        text-align: right;\n",
       "    }\n",
       "</style>\n",
       "<table border=\"1\" class=\"dataframe\">\n",
       "  <thead>\n",
       "    <tr style=\"text-align: right;\">\n",
       "      <th></th>\n",
       "      <th>year</th>\n",
       "      <th>total_precipitation</th>\n",
       "    </tr>\n",
       "  </thead>\n",
       "  <tbody>\n",
       "    <tr>\n",
       "      <th>0</th>\n",
       "      <td>2020</td>\n",
       "      <td>100304.9</td>\n",
       "    </tr>\n",
       "    <tr>\n",
       "      <th>1</th>\n",
       "      <td>1970</td>\n",
       "      <td>93933.8</td>\n",
       "    </tr>\n",
       "  </tbody>\n",
       "</table>\n",
       "</div>"
      ],
      "text/plain": [
       "   year  total_precipitation\n",
       "0  2020             100304.9\n",
       "1  1970              93933.8"
      ]
     },
     "execution_count": 11,
     "metadata": {},
     "output_type": "execute_result"
    }
   ],
   "source": [
    "with sqlite3.connect(DATABASE) as con:\n",
    "    pct_change_rainfall_query = (\n",
    "        \"\"\"\n",
    "            select strftime('%Y',DMY) as year, SUM(Precipitation) as total_precipitation\n",
    "            from bom_data\n",
    "            where year in ('2020','1970') \n",
    "            group by strftime('%Y',DMY) \n",
    "            order by 1 desc;\n",
    "        \"\"\"\n",
    "    )\n",
    "\n",
    "    pct_change_rainfall_table = pd.read_sql_query(pct_change_rainfall_query, con)\n",
    "\n",
    "pct_change_rainfall_table"
   ]
  },
  {
   "cell_type": "code",
   "execution_count": 12,
   "id": "309f67d5",
   "metadata": {},
   "outputs": [
    {
     "data": {
      "text/plain": [
       "6.8"
      ]
     },
     "execution_count": 12,
     "metadata": {},
     "output_type": "execute_result"
    }
   ],
   "source": [
    "total_rainfall_2020 = pct_change_rainfall_table.loc[0,\"total_precipitation\"]\n",
    "total_rainfall_1970 = pct_change_rainfall_table.loc[1,\"total_precipitation\"]\n",
    "\n",
    "round(float(100 * ((total_rainfall_2020 - total_rainfall_1970) / total_rainfall_1970)),1)"
   ]
  },
  {
   "cell_type": "code",
   "execution_count": null,
   "id": "41522fdb",
   "metadata": {},
   "outputs": [],
   "source": []
  },
  {
   "cell_type": "code",
   "execution_count": null,
   "id": "56a451b7",
   "metadata": {},
   "outputs": [],
   "source": []
  }
 ],
 "metadata": {
  "kernelspec": {
   "display_name": "Python 3",
   "language": "python",
   "name": "python3"
  },
  "language_info": {
   "codemirror_mode": {
    "name": "ipython",
    "version": 3
   },
   "file_extension": ".py",
   "mimetype": "text/x-python",
   "name": "python",
   "nbconvert_exporter": "python",
   "pygments_lexer": "ipython3",
   "version": "3.12.9"
  }
 },
 "nbformat": 4,
 "nbformat_minor": 5
}
